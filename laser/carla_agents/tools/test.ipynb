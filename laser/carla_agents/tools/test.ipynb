{
 "cells": [
  {
   "cell_type": "code",
   "execution_count": null,
   "metadata": {},
   "outputs": [],
   "source": [
    "import carla\n",
    "import numpy as np\n"
   ]
  },
  {
   "cell_type": "markdown",
   "metadata": {},
   "source": [
    "## UE4 Coordinate\n"
   ]
  },
  {
   "cell_type": "code",
   "execution_count": null,
   "metadata": {},
   "outputs": [],
   "source": [
    "source = carla.Transform(carla.Location(x=0, y=0, z=0), carla.Rotation(yaw=0))\n",
    "target = carla.Transform(carla.Location(x=1, y=0, z=0), carla.Rotation(yaw=0))"
   ]
  },
  {
   "cell_type": "markdown",
   "metadata": {},
   "source": [
    "### Transform Matrix\n",
    "https://www.euclideanspace.com/maths/geometry/affine/matrix4x4/index.htm"
   ]
  },
  {
   "cell_type": "code",
   "execution_count": null,
   "metadata": {},
   "outputs": [],
   "source": [
    "source_t = np.array(source.get_matrix())[3, :2]\n",
    "# target_t = transform2mat(target)\n",
    "target_inv = np.array(target.get_inverse_matrix())\n",
    "\n",
    "relative_loaction = np.dot(target_inv , source_t)\n"
   ]
  }
 ],
 "metadata": {
  "kernelspec": {
   "display_name": "carla",
   "language": "python",
   "name": "python3"
  },
  "language_info": {
   "name": "python",
   "version": "3.8.18"
  }
 },
 "nbformat": 4,
 "nbformat_minor": 2
}
